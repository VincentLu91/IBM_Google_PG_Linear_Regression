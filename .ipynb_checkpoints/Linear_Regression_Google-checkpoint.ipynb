{
 "cells": [
  {
   "cell_type": "code",
   "execution_count": 1,
   "metadata": {},
   "outputs": [],
   "source": [
    "import numpy as np\n",
    "import matplotlib.pyplot as plt \n",
    "import pandas as pd"
   ]
  },
  {
   "cell_type": "code",
   "execution_count": 2,
   "metadata": {},
   "outputs": [],
   "source": [
    "dataset = pd.read_csv('IBM_2006-01-01_to_2018-01-01.csv')\n",
    "dataset = dataset.fillna(dataset.mean())"
   ]
  },
  {
   "cell_type": "code",
   "execution_count": 4,
   "metadata": {},
   "outputs": [
    {
     "data": {
      "text/html": [
       "<div>\n",
       "<style scoped>\n",
       "    .dataframe tbody tr th:only-of-type {\n",
       "        vertical-align: middle;\n",
       "    }\n",
       "\n",
       "    .dataframe tbody tr th {\n",
       "        vertical-align: top;\n",
       "    }\n",
       "\n",
       "    .dataframe thead th {\n",
       "        text-align: right;\n",
       "    }\n",
       "</style>\n",
       "<table border=\"1\" class=\"dataframe\">\n",
       "  <thead>\n",
       "    <tr style=\"text-align: right;\">\n",
       "      <th></th>\n",
       "      <th>Date</th>\n",
       "      <th>Open</th>\n",
       "      <th>High</th>\n",
       "      <th>Low</th>\n",
       "      <th>Close</th>\n",
       "      <th>Volume</th>\n",
       "      <th>Name</th>\n",
       "    </tr>\n",
       "  </thead>\n",
       "  <tbody>\n",
       "    <tr>\n",
       "      <th>0</th>\n",
       "      <td>2006-01-03</td>\n",
       "      <td>82.45</td>\n",
       "      <td>82.55</td>\n",
       "      <td>80.81</td>\n",
       "      <td>82.06</td>\n",
       "      <td>11715200</td>\n",
       "      <td>IBM</td>\n",
       "    </tr>\n",
       "    <tr>\n",
       "      <th>1</th>\n",
       "      <td>2006-01-04</td>\n",
       "      <td>82.20</td>\n",
       "      <td>82.50</td>\n",
       "      <td>81.33</td>\n",
       "      <td>81.95</td>\n",
       "      <td>9840600</td>\n",
       "      <td>IBM</td>\n",
       "    </tr>\n",
       "    <tr>\n",
       "      <th>2</th>\n",
       "      <td>2006-01-05</td>\n",
       "      <td>81.40</td>\n",
       "      <td>82.90</td>\n",
       "      <td>81.00</td>\n",
       "      <td>82.50</td>\n",
       "      <td>7213500</td>\n",
       "      <td>IBM</td>\n",
       "    </tr>\n",
       "    <tr>\n",
       "      <th>3</th>\n",
       "      <td>2006-01-06</td>\n",
       "      <td>83.95</td>\n",
       "      <td>85.03</td>\n",
       "      <td>83.41</td>\n",
       "      <td>84.95</td>\n",
       "      <td>8197400</td>\n",
       "      <td>IBM</td>\n",
       "    </tr>\n",
       "    <tr>\n",
       "      <th>4</th>\n",
       "      <td>2006-01-09</td>\n",
       "      <td>84.10</td>\n",
       "      <td>84.25</td>\n",
       "      <td>83.38</td>\n",
       "      <td>83.73</td>\n",
       "      <td>6858200</td>\n",
       "      <td>IBM</td>\n",
       "    </tr>\n",
       "  </tbody>\n",
       "</table>\n",
       "</div>"
      ],
      "text/plain": [
       "         Date   Open   High    Low  Close    Volume Name\n",
       "0  2006-01-03  82.45  82.55  80.81  82.06  11715200  IBM\n",
       "1  2006-01-04  82.20  82.50  81.33  81.95   9840600  IBM\n",
       "2  2006-01-05  81.40  82.90  81.00  82.50   7213500  IBM\n",
       "3  2006-01-06  83.95  85.03  83.41  84.95   8197400  IBM\n",
       "4  2006-01-09  84.10  84.25  83.38  83.73   6858200  IBM"
      ]
     },
     "execution_count": 4,
     "metadata": {},
     "output_type": "execute_result"
    }
   ],
   "source": [
    "dataset.head()"
   ]
  },
  {
   "cell_type": "code",
   "execution_count": 5,
   "metadata": {},
   "outputs": [],
   "source": [
    "X = dataset.iloc[:, 1:4].values\n",
    "y = dataset.iloc[:, 4].values"
   ]
  },
  {
   "cell_type": "code",
   "execution_count": 6,
   "metadata": {},
   "outputs": [
    {
     "data": {
      "text/plain": [
       "array([[ 82.45,  82.55,  80.81],\n",
       "       [ 82.2 ,  82.5 ,  81.33],\n",
       "       [ 81.4 ,  82.9 ,  81.  ],\n",
       "       ...,\n",
       "       [152.95, 153.18, 152.61],\n",
       "       [153.2 , 154.12, 153.2 ],\n",
       "       [154.17, 154.72, 153.42]])"
      ]
     },
     "execution_count": 6,
     "metadata": {},
     "output_type": "execute_result"
    }
   ],
   "source": [
    "X"
   ]
  },
  {
   "cell_type": "code",
   "execution_count": 7,
   "metadata": {},
   "outputs": [
    {
     "data": {
      "text/plain": [
       "array([ 82.06,  81.95,  82.5 , ..., 153.13, 154.04, 153.42])"
      ]
     },
     "execution_count": 7,
     "metadata": {},
     "output_type": "execute_result"
    }
   ],
   "source": [
    "y"
   ]
  },
  {
   "cell_type": "code",
   "execution_count": 8,
   "metadata": {},
   "outputs": [],
   "source": [
    "from sklearn.model_selection import train_test_split\n",
    "X_train, X_test, y_train, y_test = train_test_split(X, y, test_size = 0.2, random_state = 0)"
   ]
  },
  {
   "cell_type": "code",
   "execution_count": 11,
   "metadata": {},
   "outputs": [
    {
     "data": {
      "text/plain": [
       "LinearRegression(copy_X=True, fit_intercept=True, n_jobs=None,\n",
       "         normalize=False)"
      ]
     },
     "execution_count": 11,
     "metadata": {},
     "output_type": "execute_result"
    }
   ],
   "source": [
    "from sklearn.linear_model import LinearRegression\n",
    "lr = LinearRegression()\n",
    "lr.fit(X_train, y_train)"
   ]
  },
  {
   "cell_type": "code",
   "execution_count": 13,
   "metadata": {},
   "outputs": [],
   "source": [
    "prediction = lr.predict(X_test)"
   ]
  },
  {
   "cell_type": "code",
   "execution_count": 14,
   "metadata": {},
   "outputs": [
    {
     "data": {
      "text/plain": [
       "array([122.98421282,  78.79221292, 152.91395478, 156.06802096,\n",
       "       131.8724265 , 125.72847965, 185.49523773, 161.54949526,\n",
       "        84.18646763, 131.97880434, 204.31325898, 200.03303973,\n",
       "       166.78013199, 166.80968551, 172.26299834, 183.59293829,\n",
       "       181.4486966 , 186.85440646, 145.31685694, 190.96435558,\n",
       "       191.07167722, 127.02066294, 122.33524653, 159.62329831,\n",
       "       191.15404536, 147.36390729, 117.35606269, 148.13902232,\n",
       "       115.62434127,  91.92764191, 192.17256177, 163.60274274,\n",
       "        93.07202088,  84.3430919 , 193.85389964, 128.02218498,\n",
       "       126.59869851, 180.51390085, 138.34282144, 110.90403876,\n",
       "       150.19444166, 206.34889944, 200.4800266 ,  98.16921108,\n",
       "       153.73214376, 177.08593566, 108.00865602, 122.18279781,\n",
       "       201.58808427, 164.37670154,  80.10059534, 143.42162934,\n",
       "       123.70277469, 162.81847547, 171.82596155, 191.64087687,\n",
       "       152.31216252, 151.96049779, 124.57982555,  96.58901529,\n",
       "       191.5725296 , 186.87723201, 122.143916  , 153.08524296,\n",
       "        81.09100415, 131.68530509,  93.26035303, 148.16310689,\n",
       "       118.17208584, 199.78015193, 159.09174628,  93.21270248,\n",
       "       193.46105619, 106.45300132, 199.7799628 , 119.84783046,\n",
       "        96.52543874, 102.03178831, 123.3024483 , 126.96957494,\n",
       "       133.68749436, 156.42129411, 189.23244053, 122.20678036,\n",
       "       193.3871722 , 166.25890917, 192.06085833, 166.13493006,\n",
       "       162.23361706,  96.82113836, 137.4527787 , 159.68562132,\n",
       "       195.7200532 , 117.69254637, 198.59285629, 121.65161626,\n",
       "        84.13974506, 175.31375237, 108.78084376, 201.97251044,\n",
       "       115.88178541, 154.21323773, 128.90180817,  82.49792299,\n",
       "       192.25185088,  79.53594407, 128.60413658, 145.46476554,\n",
       "       164.91923496,  77.45675835, 152.61450802, 164.2023739 ,\n",
       "       198.30419161, 194.66873129, 116.86089594, 165.90798272,\n",
       "       117.6980218 , 126.1450077 , 192.39815024, 149.54665235,\n",
       "       127.14828836, 206.11487789, 108.19355254, 150.72459333,\n",
       "       204.95117958, 191.81049434, 115.89812315,  99.18255251,\n",
       "       129.46293599, 167.41307052, 208.74914789, 161.57078383,\n",
       "        78.42988236, 131.73521982, 195.13511905, 147.59702344,\n",
       "       187.72371268, 119.0445533 , 167.82476752, 196.24058462,\n",
       "       191.97420257, 164.13251711,  89.1701397 , 126.39876182,\n",
       "       128.7232016 , 126.06617137, 116.05811257, 196.3260779 ,\n",
       "       114.31120938, 119.68930218, 152.93719207, 210.75066771,\n",
       "        85.81843635, 118.80586138, 145.93256984, 170.00251094,\n",
       "        98.49291776, 162.46060043, 162.25720057, 124.93659841,\n",
       "       164.74733785, 195.23693952, 102.47060908, 183.57814954,\n",
       "       122.37554823,  84.30115269, 125.47824402, 162.24907274,\n",
       "       166.43141094,  83.50988429, 191.45727669, 121.20382644,\n",
       "       159.6718382 , 137.48701112, 138.51363064, 117.74779494,\n",
       "       174.33890234,  93.40182661, 129.57663367, 160.31529828,\n",
       "        80.51150185,  94.99866587, 194.01558837, 119.49931428,\n",
       "       123.57983799, 162.7275763 , 144.70211506,  97.34863161,\n",
       "       171.29682273, 204.56073613, 167.5516102 , 129.61854641,\n",
       "       187.50669335, 156.72951581, 187.15780736, 207.33237289,\n",
       "       163.18871775, 128.66922657, 129.00524093, 187.09346535,\n",
       "       154.18031709, 154.26212582, 114.86464963, 127.63581258,\n",
       "       167.13586313, 130.94427939, 187.9456847 , 161.0745284 ,\n",
       "        79.19181963, 192.38060251,  90.89902166, 153.97922772,\n",
       "       185.01832144, 123.69919271, 159.11716092, 114.77430458,\n",
       "        74.75902363, 143.20496249, 191.31973879, 109.49834118,\n",
       "       167.56575612, 134.6491782 , 195.95130327, 108.62064542,\n",
       "       152.62258561,  95.02184738, 152.76933524,  91.83163307,\n",
       "       204.05087243, 190.16510245,  90.5115458 ,  92.06970452,\n",
       "       117.40609378, 102.55319705, 210.14392964,  81.4847304 ,\n",
       "       185.82963413, 179.77047591, 102.43463357, 159.93148302,\n",
       "       181.39831728, 153.56477175, 174.27341809, 116.7716168 ,\n",
       "       193.1691952 , 190.68427449, 192.40052497, 155.31327742,\n",
       "       160.98347763, 185.02400326, 116.14374615,  94.13042578,\n",
       "       146.83536788, 152.83876296, 180.92190679, 105.77908968,\n",
       "       122.40575943, 159.70781122, 121.71892143, 179.57662254,\n",
       "       162.01056663, 106.57511804, 189.95228846, 128.90391598,\n",
       "        81.93711639, 127.28127909, 186.26399206, 190.84239325,\n",
       "       190.35521348, 146.92351907, 163.21616571, 188.67552608,\n",
       "       108.08142285, 127.02184194, 199.6560047 , 159.15261538,\n",
       "        96.99731116,  82.24561001, 117.77448266,  81.1662335 ,\n",
       "       154.22348763,  81.65143078, 146.53183037, 130.42715791,\n",
       "       120.94723178, 200.01592404, 160.50731127, 194.38140464,\n",
       "       180.6703745 , 170.17791352, 174.50911841, 171.36169491,\n",
       "       129.57171434, 176.10887266, 125.02281587, 143.6784419 ,\n",
       "       130.30837803,  92.06735956, 140.81111148, 118.92531467,\n",
       "       152.1762952 , 147.64169797, 166.88288759, 193.82196816,\n",
       "       155.09248895, 181.71223732, 156.79278771, 103.54595703,\n",
       "       125.67799635, 154.04428292, 192.61344452, 181.53165279,\n",
       "       184.51349337, 187.2049894 , 189.42704857,  93.36568271,\n",
       "        77.19990954,  99.36081888, 129.13222468, 153.26004969,\n",
       "       189.10799384,  73.63311785, 131.84139756, 193.12128498,\n",
       "       126.54923479, 174.252881  , 122.60825671, 105.47116363,\n",
       "       117.6629591 , 147.35383999, 196.40716942, 152.34058806,\n",
       "       114.87193769, 139.47099321,  80.19005393,  83.27177122,\n",
       "       104.53532023, 210.51613592,  82.88596244, 118.79943061,\n",
       "       189.41011826, 147.66005172, 105.82214889, 159.75469733,\n",
       "       151.46640951, 157.96311641,  80.95910808, 180.91751351,\n",
       "       142.07492948, 195.80739667, 152.99923141, 195.83261072,\n",
       "       140.97423739, 158.30062047, 208.42664401, 192.83257723,\n",
       "       127.34339899, 194.3601378 , 207.30706148,  89.92305987,\n",
       "       100.44219089, 104.85945414,  89.2488883 ,  84.67103301,\n",
       "       144.75740342, 100.78533143, 199.45975907, 185.32495441,\n",
       "       203.37794215, 138.6888288 , 208.31715914, 155.55182928,\n",
       "        97.52968919, 189.62206119, 127.85573527,  93.8134811 ,\n",
       "       116.70664086, 102.32405056,  75.7497739 , 116.36853665,\n",
       "       180.95079512, 144.69268666, 176.62106791, 131.49846987,\n",
       "       153.36467698, 104.38764829,  91.19997835, 111.61373507,\n",
       "       162.69648709, 129.56842528,  91.32661657, 128.15892683,\n",
       "       195.92022105, 161.77240398, 114.30199464, 109.2182018 ,\n",
       "        93.99278461, 138.76745179,  97.14632994, 194.91764913,\n",
       "       103.93767657, 202.87711609, 175.24263559, 118.66567134,\n",
       "       168.62414894, 129.25230058,  90.8720515 ,  75.45299111,\n",
       "       106.05470046, 153.56420411, 198.45812991, 180.21597332,\n",
       "       209.45123145, 130.10622643, 178.03813983, 128.39452509,\n",
       "       144.89769903, 152.19672621, 148.73363409, 113.25396823,\n",
       "       157.48497232, 163.44047916,  96.14852576,  94.42627901,\n",
       "        95.77707594, 116.85219324, 127.0975666 , 130.30382293,\n",
       "       153.64226198, 168.29813138, 151.8911049 , 121.45417056,\n",
       "       212.5216855 , 134.84339254, 174.94909812, 153.78120024,\n",
       "       105.92635436, 130.63703656, 104.97935221, 195.3864884 ,\n",
       "       108.27758665,  84.55392819, 156.60480302, 164.45366769,\n",
       "       162.57642216, 127.88665789,  81.32586744, 102.34007008,\n",
       "       158.16383258, 147.42511236, 139.9537485 , 153.952135  ,\n",
       "       167.84772366, 113.38505931, 104.59192317, 187.31179882,\n",
       "       200.45919077, 164.0460818 , 192.79650014, 129.06855831,\n",
       "       102.91019405,  92.10878853, 109.67712385, 152.22799478,\n",
       "       169.31225154,  87.65690226,  94.8737379 , 185.24359372,\n",
       "       143.22489496, 197.47704374, 146.51485672, 130.01493132,\n",
       "       118.72111231, 122.14358426, 106.97806833, 180.25671503,\n",
       "       204.06525193,  79.67330082,  74.29081461, 123.0460508 ,\n",
       "       110.30924537,  80.05949161,  93.38611728, 189.72837351,\n",
       "       144.0414477 ,  90.18467745,  90.90731908, 155.2296058 ,\n",
       "       116.13298196, 114.35169275, 104.76017801, 162.43548921,\n",
       "       114.06528215, 169.9307165 , 129.35576365,  81.43458947,\n",
       "       116.72249579, 184.94928595, 127.47267117,  92.46371249,\n",
       "       163.67024375, 119.82672868, 139.78933608, 165.89659611,\n",
       "       187.86580817, 106.62373649, 193.15376282, 161.8404749 ,\n",
       "       130.78711151, 190.69821545, 111.95828753,  81.02173604,\n",
       "        82.01822565, 164.21136429, 205.96428536, 180.01267504,\n",
       "       168.72884477, 201.26460104, 124.56319761, 207.33277591,\n",
       "       180.6213021 , 154.98279978, 133.60143971, 151.76773892,\n",
       "       140.70194042, 143.92758091, 102.64307053, 188.8828579 ,\n",
       "       137.71101113, 187.88729062, 154.21138652, 105.0877951 ,\n",
       "       186.31997185, 172.75511078, 104.44403707, 187.12158966,\n",
       "       206.39614124, 120.01411903,  82.45091171,  81.30627517,\n",
       "       123.01740559, 148.03109425, 156.89821468, 105.83454437,\n",
       "       130.27611608, 189.84018827,  77.90478859, 128.61006152,\n",
       "       107.99748351, 118.04747405, 138.46582417, 155.14648071,\n",
       "       105.36535235, 112.80550521, 179.75616895, 100.60595365,\n",
       "       159.9076303 ,  81.54229294, 133.98106566, 159.37090426,\n",
       "       195.17915707, 126.01397591, 146.95949012,  95.5163985 ,\n",
       "       115.92943551, 184.6107395 , 188.75148291, 207.83183735,\n",
       "       160.16911572, 164.48393389, 173.9199728 , 127.54846264,\n",
       "       143.92119811, 152.67551796, 113.069513  , 124.97061694,\n",
       "       115.47641816, 163.62164679, 186.31910928, 107.31555938,\n",
       "       187.20711051,  76.03425476, 183.64931984, 124.33191885,\n",
       "       135.40309645, 144.28263919, 182.63156062, 143.805543  ,\n",
       "        98.38934565, 150.73873667, 125.8776333 , 163.41062245,\n",
       "       165.52206211,  82.29425723,  76.79178303, 162.92355628,\n",
       "       186.00604549, 148.56677911, 123.04918526, 115.36086631,\n",
       "       117.62027662,  91.46839291, 184.11932007, 132.47870908])"
      ]
     },
     "execution_count": 14,
     "metadata": {},
     "output_type": "execute_result"
    }
   ],
   "source": [
    "prediction"
   ]
  },
  {
   "cell_type": "code",
   "execution_count": 16,
   "metadata": {},
   "outputs": [
    {
     "data": {
      "text/plain": [
       "2416"
      ]
     },
     "execution_count": 16,
     "metadata": {},
     "output_type": "execute_result"
    }
   ],
   "source": [
    "len(X_train)"
   ]
  },
  {
   "cell_type": "code",
   "execution_count": 17,
   "metadata": {},
   "outputs": [
    {
     "data": {
      "text/plain": [
       "2416"
      ]
     },
     "execution_count": 17,
     "metadata": {},
     "output_type": "execute_result"
    }
   ],
   "source": [
    "len(y_train)"
   ]
  },
  {
   "cell_type": "code",
   "execution_count": 18,
   "metadata": {},
   "outputs": [
    {
     "data": {
      "text/plain": [
       "2416"
      ]
     },
     "execution_count": 18,
     "metadata": {},
     "output_type": "execute_result"
    }
   ],
   "source": [
    "len(lr.predict(X_train))"
   ]
  },
  {
   "cell_type": "code",
   "execution_count": 22,
   "metadata": {},
   "outputs": [
    {
     "name": "stdout",
     "output_type": "stream",
     "text": [
      "(2416, 3)\n"
     ]
    }
   ],
   "source": [
    "print(X_train.shape)"
   ]
  },
  {
   "cell_type": "code",
   "execution_count": 23,
   "metadata": {},
   "outputs": [
    {
     "name": "stdout",
     "output_type": "stream",
     "text": [
      "(2416,)\n"
     ]
    }
   ],
   "source": [
    "print(y_train.shape)"
   ]
  },
  {
   "cell_type": "code",
   "execution_count": 29,
   "metadata": {},
   "outputs": [
    {
     "data": {
      "text/html": [
       "<table class=\"simpletable\">\n",
       "<caption>OLS Regression Results</caption>\n",
       "<tr>\n",
       "  <th>Dep. Variable:</th>            <td>y</td>        <th>  R-squared:         </th> <td>   1.000</td> \n",
       "</tr>\n",
       "<tr>\n",
       "  <th>Model:</th>                   <td>OLS</td>       <th>  Adj. R-squared:    </th> <td>   1.000</td> \n",
       "</tr>\n",
       "<tr>\n",
       "  <th>Method:</th>             <td>Least Squares</td>  <th>  F-statistic:       </th> <td>4.844e+07</td>\n",
       "</tr>\n",
       "<tr>\n",
       "  <th>Date:</th>             <td>Sun, 11 Aug 2019</td> <th>  Prob (F-statistic):</th>  <td>  0.00</td>  \n",
       "</tr>\n",
       "<tr>\n",
       "  <th>Time:</th>                 <td>04:01:44</td>     <th>  Log-Likelihood:    </th> <td> -3143.5</td> \n",
       "</tr>\n",
       "<tr>\n",
       "  <th>No. Observations:</th>      <td>  3020</td>      <th>  AIC:               </th> <td>   6293.</td> \n",
       "</tr>\n",
       "<tr>\n",
       "  <th>Df Residuals:</th>          <td>  3017</td>      <th>  BIC:               </th> <td>   6311.</td> \n",
       "</tr>\n",
       "<tr>\n",
       "  <th>Df Model:</th>              <td>     3</td>      <th>                     </th>     <td> </td>    \n",
       "</tr>\n",
       "<tr>\n",
       "  <th>Covariance Type:</th>      <td>nonrobust</td>    <th>                     </th>     <td> </td>    \n",
       "</tr>\n",
       "</table>\n",
       "<table class=\"simpletable\">\n",
       "<tr>\n",
       "   <td></td>     <th>coef</th>     <th>std err</th>      <th>t</th>      <th>P>|t|</th>  <th>[0.025</th>    <th>0.975]</th>  \n",
       "</tr>\n",
       "<tr>\n",
       "  <th>x1</th> <td>   -0.5238</td> <td>    0.015</td> <td>  -34.432</td> <td> 0.000</td> <td>   -0.554</td> <td>   -0.494</td>\n",
       "</tr>\n",
       "<tr>\n",
       "  <th>x2</th> <td>    0.7853</td> <td>    0.013</td> <td>   62.118</td> <td> 0.000</td> <td>    0.761</td> <td>    0.810</td>\n",
       "</tr>\n",
       "<tr>\n",
       "  <th>x3</th> <td>    0.7381</td> <td>    0.013</td> <td>   58.817</td> <td> 0.000</td> <td>    0.714</td> <td>    0.763</td>\n",
       "</tr>\n",
       "</table>\n",
       "<table class=\"simpletable\">\n",
       "<tr>\n",
       "  <th>Omnibus:</th>       <td>355.369</td> <th>  Durbin-Watson:     </th> <td>   2.105</td>\n",
       "</tr>\n",
       "<tr>\n",
       "  <th>Prob(Omnibus):</th> <td> 0.000</td>  <th>  Jarque-Bera (JB):  </th> <td>3237.351</td>\n",
       "</tr>\n",
       "<tr>\n",
       "  <th>Skew:</th>          <td>-0.166</td>  <th>  Prob(JB):          </th> <td>    0.00</td>\n",
       "</tr>\n",
       "<tr>\n",
       "  <th>Kurtosis:</th>      <td> 8.061</td>  <th>  Cond. No.          </th> <td>    389.</td>\n",
       "</tr>\n",
       "</table><br/><br/>Warnings:<br/>[1] Standard Errors assume that the covariance matrix of the errors is correctly specified."
      ],
      "text/plain": [
       "<class 'statsmodels.iolib.summary.Summary'>\n",
       "\"\"\"\n",
       "                            OLS Regression Results                            \n",
       "==============================================================================\n",
       "Dep. Variable:                      y   R-squared:                       1.000\n",
       "Model:                            OLS   Adj. R-squared:                  1.000\n",
       "Method:                 Least Squares   F-statistic:                 4.844e+07\n",
       "Date:                Sun, 11 Aug 2019   Prob (F-statistic):               0.00\n",
       "Time:                        04:01:44   Log-Likelihood:                -3143.5\n",
       "No. Observations:                3020   AIC:                             6293.\n",
       "Df Residuals:                    3017   BIC:                             6311.\n",
       "Df Model:                           3                                         \n",
       "Covariance Type:            nonrobust                                         \n",
       "==============================================================================\n",
       "                 coef    std err          t      P>|t|      [0.025      0.975]\n",
       "------------------------------------------------------------------------------\n",
       "x1            -0.5238      0.015    -34.432      0.000      -0.554      -0.494\n",
       "x2             0.7853      0.013     62.118      0.000       0.761       0.810\n",
       "x3             0.7381      0.013     58.817      0.000       0.714       0.763\n",
       "==============================================================================\n",
       "Omnibus:                      355.369   Durbin-Watson:                   2.105\n",
       "Prob(Omnibus):                  0.000   Jarque-Bera (JB):             3237.351\n",
       "Skew:                          -0.166   Prob(JB):                         0.00\n",
       "Kurtosis:                       8.061   Cond. No.                         389.\n",
       "==============================================================================\n",
       "\n",
       "Warnings:\n",
       "[1] Standard Errors assume that the covariance matrix of the errors is correctly specified.\n",
       "\"\"\""
      ]
     },
     "execution_count": 29,
     "metadata": {},
     "output_type": "execute_result"
    }
   ],
   "source": [
    "import statsmodels.formula.api as sm\n",
    "X_opt = X[:, [0, 1, 2]]\n",
    "lin_reg_OLS = sm.OLS(endog = y, exog = X_opt).fit()\n",
    "lin_reg_OLS.summary()"
   ]
  },
  {
   "cell_type": "code",
   "execution_count": 30,
   "metadata": {},
   "outputs": [
    {
     "data": {
      "text/html": [
       "<table class=\"simpletable\">\n",
       "<caption>OLS Regression Results</caption>\n",
       "<tr>\n",
       "  <th>Dep. Variable:</th>            <td>y</td>        <th>  R-squared:         </th> <td>   1.000</td> \n",
       "</tr>\n",
       "<tr>\n",
       "  <th>Model:</th>                   <td>OLS</td>       <th>  Adj. R-squared:    </th> <td>   1.000</td> \n",
       "</tr>\n",
       "<tr>\n",
       "  <th>Method:</th>             <td>Least Squares</td>  <th>  F-statistic:       </th> <td>3.189e+07</td>\n",
       "</tr>\n",
       "<tr>\n",
       "  <th>Date:</th>             <td>Sun, 11 Aug 2019</td> <th>  Prob (F-statistic):</th>  <td>  0.00</td>  \n",
       "</tr>\n",
       "<tr>\n",
       "  <th>Time:</th>                 <td>04:03:47</td>     <th>  Log-Likelihood:    </th> <td> -4387.3</td> \n",
       "</tr>\n",
       "<tr>\n",
       "  <th>No. Observations:</th>      <td>  3020</td>      <th>  AIC:               </th> <td>   8779.</td> \n",
       "</tr>\n",
       "<tr>\n",
       "  <th>Df Residuals:</th>          <td>  3018</td>      <th>  BIC:               </th> <td>   8791.</td> \n",
       "</tr>\n",
       "<tr>\n",
       "  <th>Df Model:</th>              <td>     2</td>      <th>                     </th>     <td> </td>    \n",
       "</tr>\n",
       "<tr>\n",
       "  <th>Covariance Type:</th>      <td>nonrobust</td>    <th>                     </th>     <td> </td>    \n",
       "</tr>\n",
       "</table>\n",
       "<table class=\"simpletable\">\n",
       "<tr>\n",
       "   <td></td>     <th>coef</th>     <th>std err</th>      <th>t</th>      <th>P>|t|</th>  <th>[0.025</th>    <th>0.975]</th>  \n",
       "</tr>\n",
       "<tr>\n",
       "  <th>x1</th> <td>    0.0574</td> <td>    0.018</td> <td>    3.168</td> <td> 0.002</td> <td>    0.022</td> <td>    0.093</td>\n",
       "</tr>\n",
       "<tr>\n",
       "  <th>x2</th> <td>    0.9498</td> <td>    0.018</td> <td>   52.097</td> <td> 0.000</td> <td>    0.914</td> <td>    0.985</td>\n",
       "</tr>\n",
       "</table>\n",
       "<table class=\"simpletable\">\n",
       "<tr>\n",
       "  <th>Omnibus:</th>       <td>1210.640</td> <th>  Durbin-Watson:     </th> <td>   1.725</td>\n",
       "</tr>\n",
       "<tr>\n",
       "  <th>Prob(Omnibus):</th>  <td> 0.000</td>  <th>  Jarque-Bera (JB):  </th> <td>6619.693</td>\n",
       "</tr>\n",
       "<tr>\n",
       "  <th>Skew:</th>           <td> 1.835</td>  <th>  Prob(JB):          </th> <td>    0.00</td>\n",
       "</tr>\n",
       "<tr>\n",
       "  <th>Kurtosis:</th>       <td> 9.257</td>  <th>  Cond. No.          </th> <td>    289.</td>\n",
       "</tr>\n",
       "</table><br/><br/>Warnings:<br/>[1] Standard Errors assume that the covariance matrix of the errors is correctly specified."
      ],
      "text/plain": [
       "<class 'statsmodels.iolib.summary.Summary'>\n",
       "\"\"\"\n",
       "                            OLS Regression Results                            \n",
       "==============================================================================\n",
       "Dep. Variable:                      y   R-squared:                       1.000\n",
       "Model:                            OLS   Adj. R-squared:                  1.000\n",
       "Method:                 Least Squares   F-statistic:                 3.189e+07\n",
       "Date:                Sun, 11 Aug 2019   Prob (F-statistic):               0.00\n",
       "Time:                        04:03:47   Log-Likelihood:                -4387.3\n",
       "No. Observations:                3020   AIC:                             8779.\n",
       "Df Residuals:                    3018   BIC:                             8791.\n",
       "Df Model:                           2                                         \n",
       "Covariance Type:            nonrobust                                         \n",
       "==============================================================================\n",
       "                 coef    std err          t      P>|t|      [0.025      0.975]\n",
       "------------------------------------------------------------------------------\n",
       "x1             0.0574      0.018      3.168      0.002       0.022       0.093\n",
       "x2             0.9498      0.018     52.097      0.000       0.914       0.985\n",
       "==============================================================================\n",
       "Omnibus:                     1210.640   Durbin-Watson:                   1.725\n",
       "Prob(Omnibus):                  0.000   Jarque-Bera (JB):             6619.693\n",
       "Skew:                           1.835   Prob(JB):                         0.00\n",
       "Kurtosis:                       9.257   Cond. No.                         289.\n",
       "==============================================================================\n",
       "\n",
       "Warnings:\n",
       "[1] Standard Errors assume that the covariance matrix of the errors is correctly specified.\n",
       "\"\"\""
      ]
     },
     "execution_count": 30,
     "metadata": {},
     "output_type": "execute_result"
    }
   ],
   "source": [
    "X_opt = X[:, [0, 2]]\n",
    "lin_reg_OLS = sm.OLS(endog = y, exog = X_opt).fit()\n",
    "lin_reg_OLS.summary()"
   ]
  },
  {
   "cell_type": "code",
   "execution_count": 31,
   "metadata": {},
   "outputs": [
    {
     "data": {
      "text/html": [
       "<table class=\"simpletable\">\n",
       "<caption>OLS Regression Results</caption>\n",
       "<tr>\n",
       "  <th>Dep. Variable:</th>            <td>y</td>        <th>  R-squared:         </th> <td>   1.000</td> \n",
       "</tr>\n",
       "<tr>\n",
       "  <th>Model:</th>                   <td>OLS</td>       <th>  Adj. R-squared:    </th> <td>   1.000</td> \n",
       "</tr>\n",
       "<tr>\n",
       "  <th>Method:</th>             <td>Least Squares</td>  <th>  F-statistic:       </th> <td>3.189e+07</td>\n",
       "</tr>\n",
       "<tr>\n",
       "  <th>Date:</th>             <td>Sun, 11 Aug 2019</td> <th>  Prob (F-statistic):</th>  <td>  0.00</td>  \n",
       "</tr>\n",
       "<tr>\n",
       "  <th>Time:</th>                 <td>04:05:06</td>     <th>  Log-Likelihood:    </th> <td> -4387.3</td> \n",
       "</tr>\n",
       "<tr>\n",
       "  <th>No. Observations:</th>      <td>  3020</td>      <th>  AIC:               </th> <td>   8779.</td> \n",
       "</tr>\n",
       "<tr>\n",
       "  <th>Df Residuals:</th>          <td>  3018</td>      <th>  BIC:               </th> <td>   8791.</td> \n",
       "</tr>\n",
       "<tr>\n",
       "  <th>Df Model:</th>              <td>     2</td>      <th>                     </th>     <td> </td>    \n",
       "</tr>\n",
       "<tr>\n",
       "  <th>Covariance Type:</th>      <td>nonrobust</td>    <th>                     </th>     <td> </td>    \n",
       "</tr>\n",
       "</table>\n",
       "<table class=\"simpletable\">\n",
       "<tr>\n",
       "   <td></td>     <th>coef</th>     <th>std err</th>      <th>t</th>      <th>P>|t|</th>  <th>[0.025</th>    <th>0.975]</th>  \n",
       "</tr>\n",
       "<tr>\n",
       "  <th>x1</th> <td>    0.0574</td> <td>    0.018</td> <td>    3.168</td> <td> 0.002</td> <td>    0.022</td> <td>    0.093</td>\n",
       "</tr>\n",
       "<tr>\n",
       "  <th>x2</th> <td>    0.9498</td> <td>    0.018</td> <td>   52.097</td> <td> 0.000</td> <td>    0.914</td> <td>    0.985</td>\n",
       "</tr>\n",
       "</table>\n",
       "<table class=\"simpletable\">\n",
       "<tr>\n",
       "  <th>Omnibus:</th>       <td>1210.640</td> <th>  Durbin-Watson:     </th> <td>   1.725</td>\n",
       "</tr>\n",
       "<tr>\n",
       "  <th>Prob(Omnibus):</th>  <td> 0.000</td>  <th>  Jarque-Bera (JB):  </th> <td>6619.693</td>\n",
       "</tr>\n",
       "<tr>\n",
       "  <th>Skew:</th>           <td> 1.835</td>  <th>  Prob(JB):          </th> <td>    0.00</td>\n",
       "</tr>\n",
       "<tr>\n",
       "  <th>Kurtosis:</th>       <td> 9.257</td>  <th>  Cond. No.          </th> <td>    289.</td>\n",
       "</tr>\n",
       "</table><br/><br/>Warnings:<br/>[1] Standard Errors assume that the covariance matrix of the errors is correctly specified."
      ],
      "text/plain": [
       "<class 'statsmodels.iolib.summary.Summary'>\n",
       "\"\"\"\n",
       "                            OLS Regression Results                            \n",
       "==============================================================================\n",
       "Dep. Variable:                      y   R-squared:                       1.000\n",
       "Model:                            OLS   Adj. R-squared:                  1.000\n",
       "Method:                 Least Squares   F-statistic:                 3.189e+07\n",
       "Date:                Sun, 11 Aug 2019   Prob (F-statistic):               0.00\n",
       "Time:                        04:05:06   Log-Likelihood:                -4387.3\n",
       "No. Observations:                3020   AIC:                             8779.\n",
       "Df Residuals:                    3018   BIC:                             8791.\n",
       "Df Model:                           2                                         \n",
       "Covariance Type:            nonrobust                                         \n",
       "==============================================================================\n",
       "                 coef    std err          t      P>|t|      [0.025      0.975]\n",
       "------------------------------------------------------------------------------\n",
       "x1             0.0574      0.018      3.168      0.002       0.022       0.093\n",
       "x2             0.9498      0.018     52.097      0.000       0.914       0.985\n",
       "==============================================================================\n",
       "Omnibus:                     1210.640   Durbin-Watson:                   1.725\n",
       "Prob(Omnibus):                  0.000   Jarque-Bera (JB):             6619.693\n",
       "Skew:                           1.835   Prob(JB):                         0.00\n",
       "Kurtosis:                       9.257   Cond. No.                         289.\n",
       "==============================================================================\n",
       "\n",
       "Warnings:\n",
       "[1] Standard Errors assume that the covariance matrix of the errors is correctly specified.\n",
       "\"\"\""
      ]
     },
     "execution_count": 31,
     "metadata": {},
     "output_type": "execute_result"
    }
   ],
   "source": [
    "X_opt = X[:, [0, 2]]\n",
    "lin_reg_OLS = sm.OLS(endog = y, exog = X_opt).fit()\n",
    "lin_reg_OLS.summary()\n",
    "# low"
   ]
  },
  {
   "cell_type": "code",
   "execution_count": null,
   "metadata": {},
   "outputs": [],
   "source": []
  }
 ],
 "metadata": {
  "kernelspec": {
   "display_name": "Python 3",
   "language": "python",
   "name": "python3"
  },
  "language_info": {
   "codemirror_mode": {
    "name": "ipython",
    "version": 3
   },
   "file_extension": ".py",
   "mimetype": "text/x-python",
   "name": "python",
   "nbconvert_exporter": "python",
   "pygments_lexer": "ipython3",
   "version": "3.6.8"
  }
 },
 "nbformat": 4,
 "nbformat_minor": 2
}
